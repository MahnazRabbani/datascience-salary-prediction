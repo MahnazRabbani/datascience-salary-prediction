{
 "cells": [
  {
   "attachments": {},
   "cell_type": "markdown",
   "metadata": {},
   "source": [
    "Result of training models with default params:\n",
    "\n",
    "Mean Squared Error for Linear Regression: 2701310344.26589\n",
    "Mean Squared Error for Random Forest: 2567706556.0207033\n",
    "Mean Squared Error for SVM: 3943997884.475298\n",
    "Mean Squared Error for XGBoost: 2518672350.812344\n",
    "Mean Squared Error for LightGBM: 2657028304.8997755\n",
    "\n",
    "Trained models from best to worst:\n",
    "XGBoost - MSE: 2518672350.812344\n",
    "Random Forest - MSE: 2567706556.0207033\n",
    "LightGBM - MSE: 2657028304.8997755\n",
    "Linear Regression - MSE: 2701310344.26589\n",
    "SVM - MSE: 3943997884.475298"
   ]
  },
  {
   "attachments": {},
   "cell_type": "markdown",
   "metadata": {},
   "source": [
    "We see that XGBoost is performing better than other models (Suprise!) so we tune the hyperparameters for better accuracy. "
   ]
  },
  {
   "attachments": {},
   "cell_type": "markdown",
   "metadata": {},
   "source": [
    "xgboost hyperparametr tunning results:\n",
    "\n",
    "1. with  param_grid = {\n",
    "        'learning_rate': [0.1, 0.01, 0.001],\n",
    "        'max_depth': [3, 5, 7],\n",
    "        'n_estimators': [100, 200, 300],\n",
    "        'reg_alpha': [0, 0.1, 0.5],\n",
    "        'reg_lambda': [0, 0.1, 0.5]\n",
    "    }\n",
    "Mean Squared Error: 2494005870.010279\n",
    "Best Hyperparameters:\n",
    "{'learning_rate': 0.1, 'max_depth': 5, 'n_estimators': 100, 'reg_alpha': 0, 'reg_lambda': 0}\n",
    "\n",
    "2. with param_grid = {\n",
    "    'learning_rate': [0.05, 0.1, 0.15],\n",
    "    'max_depth': [4, 5, 6],\n",
    "    'n_estimators': [80, 100, 120],\n",
    "    'reg_alpha': [0, 0.05, 0.1],\n",
    "    'reg_lambda': [0, 0.05, 0.1]\n",
    "}\n",
    "Best Hyperparameters:\n",
    "{'learning_rate': 0.1, 'max_depth': 5, 'n_estimators': 100, 'reg_alpha': 0.05, 'reg_lambda': 0}\n",
    "\n",
    "Mean Squared Error: 2494005874.029345\n",
    "\n",
    "3. with param_grid = {\n",
    "    'learning_rate': [0.08, 0.1, 0.12],\n",
    "    'max_depth': [4, 5, 6],\n",
    "    'n_estimators': [90, 100, 110],\n",
    "    'reg_alpha': [0.03, 0.05, 0.07, 0],\n",
    "    'reg_lambda': [0.03, 0.05, 0.07]\n",
    "}\n",
    "\n",
    "4. with param_grid = {\n",
    "    'learning_rate': [0.08, 0.1, 0.12],\n",
    "    'max_depth': [4, 5, 6],\n",
    "    'n_estimators': [90, 100, 110],\n",
    "    'reg_alpha': [0.03, 0.05, 0.07, 0],\n",
    "    'reg_lambda': [0.03, 0.05, 0.07]\n",
    "} \n",
    "\n",
    "Best Hyperparameters:\n",
    "{'learning_rate': 0.12, 'max_depth': 5, 'n_estimators': 90, 'reg_alpha': 0.07, 'reg_lambda': 0.07}\n",
    "\n",
    "Mean Squared Error: 2492416319.543149\n",
    "\n",
    "5. with param_grid = {\n",
    "    'learning_rate': [0.08, 0.1, 0.12],\n",
    "    'max_depth': [4, 5, 6],\n",
    "    'n_estimators': [85, 90, 95, 100, 105],\n",
    "    'reg_alpha': [0.03, 0.05, 0.07, 0.08, 0.09],\n",
    "    'reg_lambda': [0.03, 0.05, 0.07, 0.08, 0.09]\n",
    "}\n",
    "\n",
    "6. with Best Hyperparameters:\n",
    "{'learning_rate': 0.12, 'max_depth': 5, 'n_estimators': 90, 'reg_alpha': 0.09, 'reg_lambda': 0.07}\n",
    "\n",
    "Mean Squared Error: 2492416346.4434867"
   ]
  },
  {
   "cell_type": "markdown",
   "metadata": {},
   "source": []
  },
  {
   "cell_type": "markdown",
   "metadata": {},
   "source": []
  }
 ],
 "metadata": {
  "kernelspec": {
   "display_name": "env_proj0",
   "language": "python",
   "name": "python3"
  },
  "language_info": {
   "name": "python",
   "version": "3.10.9 (main, Mar  8 2023, 04:44:36) [Clang 14.0.6 ]"
  },
  "orig_nbformat": 4,
  "vscode": {
   "interpreter": {
    "hash": "f5e64579b8aadd340ee1704ac5979d1715cb58065c50451390f20474df5db8ca"
   }
  }
 },
 "nbformat": 4,
 "nbformat_minor": 2
}
